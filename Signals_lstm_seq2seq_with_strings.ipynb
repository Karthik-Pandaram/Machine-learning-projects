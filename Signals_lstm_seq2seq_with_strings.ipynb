{
  "nbformat": 4,
  "nbformat_minor": 0,
  "metadata": {
    "colab": {
      "name": "Signals lstm_seq2seq",
      "provenance": [],
      "collapsed_sections": [],
      "include_colab_link": true
    },
    "kernelspec": {
      "display_name": "Python 3",
      "language": "python",
      "name": "python3"
    },
    "language_info": {
      "codemirror_mode": {
        "name": "ipython",
        "version": 3
      },
      "file_extension": ".py",
      "mimetype": "text/x-python",
      "name": "python",
      "nbconvert_exporter": "python",
      "pygments_lexer": "ipython3",
      "version": "3.7.0"
    },
    "accelerator": "GPU"
  },
  "cells": [
    {
      "cell_type": "markdown",
      "metadata": {
        "id": "view-in-github",
        "colab_type": "text"
      },
      "source": [
        "<a href=\"https://colab.research.google.com/github/Karthik-Pandaram/Machine-learning-projects/blob/main/Signals_lstm_seq2seq_with_strings.ipynb\" target=\"_parent\"><img src=\"https://colab.research.google.com/assets/colab-badge.svg\" alt=\"Open In Colab\"/></a>"
      ]
    },
    {
      "cell_type": "code",
      "metadata": {
        "id": "9roA2p4gCfUI"
      },
      "source": [
        "import numpy as np\n",
        "import tensorflow as tf\n",
        "from tensorflow import keras\n",
        "import matplotlib.pyplot as plt\n"
      ],
      "execution_count": 14,
      "outputs": []
    },
    {
      "cell_type": "markdown",
      "metadata": {
        "id": "87_iLTniCfUJ"
      },
      "source": [
        "## Download the data\n"
      ]
    },
    {
      "cell_type": "markdown",
      "metadata": {
        "id": "isc5hQVeCfUL"
      },
      "source": [
        "## Configuration\n"
      ]
    },
    {
      "cell_type": "code",
      "metadata": {
        "id": "06jsjJBQCfUM"
      },
      "source": [
        "batch_size = 64  # Batch size for training.\n",
        "epochs = 100  # Number of epochs to train for.\n",
        "latent_dim = 256  # Latent dimensionality of the encoding space.\n",
        "num_samples = 10000  # Number of samples to train on.\n",
        "# Path to the data txt file on disk.\n"
      ],
      "execution_count": 15,
      "outputs": []
    },
    {
      "cell_type": "markdown",
      "metadata": {
        "id": "cwuY5eT4CfUN"
      },
      "source": [
        "## Prepare the data\n"
      ]
    },
    {
      "cell_type": "code",
      "metadata": {
        "id": "C_k22rQzlw9k"
      },
      "source": [
        "#Change input text to sequences \n",
        "X = list()\n",
        "Y = list()\n",
        "def Rand(start, end, num):\n",
        "    res = []\n",
        " \n",
        "    for j in range(num):\n",
        "        res.append(np.random.randint(start, end))\n",
        " \n",
        "    return res\n",
        " \n",
        "for i in range(10):\n",
        "  X.append(Rand(0,50,100))\n",
        "  Y.append(Rand(0,50,100))\n",
        "\n",
        "X = np.array(X).reshape(10, 100)\n",
        "Y = np.array(Y).reshape(10, 100)\n",
        "inwave = [ ]\n",
        "tarwave = [ ]\n",
        "for wav in X:\n",
        "  l = wav.tolist()\n",
        "  # Remove square brackets from list\n",
        "  # using str() + list slicing\n",
        "  wav = str(l)[1:-1]\n",
        "  inwave.append(wav)\n",
        "for wav in Y:\n",
        "  l = wav.tolist()\n",
        "  # Remove square brackets from list\n",
        "  # using str() + list slicing\n",
        "  wav = str(l)[1:-1]\n",
        "  tarwave.append(wav)"
      ],
      "execution_count": 16,
      "outputs": []
    },
    {
      "cell_type": "code",
      "metadata": {
        "colab": {
          "base_uri": "https://localhost:8080/",
          "height": 70
        },
        "id": "bcKNVZpiDvtW",
        "outputId": "529c716b-ba9e-41d8-bcc2-1ee7d8c34834"
      },
      "source": [
        "inwave[1]"
      ],
      "execution_count": 17,
      "outputs": [
        {
          "output_type": "execute_result",
          "data": {
            "application/vnd.google.colaboratory.intrinsic+json": {
              "type": "string"
            },
            "text/plain": [
              "'18, 2, 15, 47, 42, 2, 24, 6, 2, 44, 34, 49, 42, 33, 11, 3, 43, 36, 5, 27, 40, 18, 28, 33, 8, 8, 17, 8, 11, 29, 18, 49, 26, 24, 43, 6, 49, 21, 44, 14, 44, 25, 17, 17, 31, 49, 49, 9, 16, 32, 43, 39, 29, 5, 5, 14, 32, 17, 34, 21, 1, 5, 2, 47, 46, 13, 33, 16, 0, 4, 7, 33, 38, 13, 1, 17, 15, 37, 13, 46, 33, 13, 43, 13, 9, 26, 0, 8, 1, 22, 42, 33, 2, 18, 47, 19, 2, 6, 48, 46'"
            ]
          },
          "metadata": {},
          "execution_count": 17
        }
      ]
    },
    {
      "cell_type": "code",
      "metadata": {
        "id": "yYJDfCmgCfUO"
      },
      "source": [
        "# Vectorize the data.\n",
        "# inwave = []\n",
        "# target_texts = []\n",
        "input_characters = set()\n",
        "target_characters = set()\n",
        "# with open(data_path, \"r\", encoding=\"utf-8\") as f:\n",
        "#     lines = f.read().split(\"\\n\")\n",
        "for line in inwave:\n",
        "    # input_text, target_text, _ = line.split(\"\\t\")\n",
        "    # # We use \"tab\" as the \"start sequence\" character\n",
        "    # # for the targets, and \"\\n\" as \"end sequence\" character.\n",
        "    # target_text = \"\\t\" + target_text + \"\\n\"\n",
        "    # input_texts.append(input_text)\n",
        "    # target_texts.append(target_text)\n",
        "    for char in line:\n",
        "        if char not in input_characters:\n",
        "            input_characters.add(char)\n",
        "for line in tarwave:            \n",
        "    for char in line:\n",
        "        if char not in target_characters:\n",
        "            target_characters.add(char)"
      ],
      "execution_count": 18,
      "outputs": []
    },
    {
      "cell_type": "code",
      "metadata": {
        "colab": {
          "base_uri": "https://localhost:8080/"
        },
        "id": "m8D8bDhhFhrw",
        "outputId": "43039d25-69e1-495c-c634-e069a995ed3e"
      },
      "source": [
        "input_characters"
      ],
      "execution_count": 19,
      "outputs": [
        {
          "output_type": "execute_result",
          "data": {
            "text/plain": [
              "{' ', ',', '0', '1', '2', '3', '4', '5', '6', '7', '8', '9'}"
            ]
          },
          "metadata": {},
          "execution_count": 19
        }
      ]
    },
    {
      "cell_type": "code",
      "metadata": {
        "colab": {
          "base_uri": "https://localhost:8080/"
        },
        "id": "69psgZ0ZF_tx",
        "outputId": "8505ce6c-dac9-4a65-b571-b1104abb97e4"
      },
      "source": [
        "len(inwave)"
      ],
      "execution_count": 20,
      "outputs": [
        {
          "output_type": "execute_result",
          "data": {
            "text/plain": [
              "10"
            ]
          },
          "metadata": {},
          "execution_count": 20
        }
      ]
    },
    {
      "cell_type": "markdown",
      "metadata": {
        "id": "J32QgnqUF0bO"
      },
      "source": [
        "Character encodind done ok!"
      ]
    },
    {
      "cell_type": "code",
      "metadata": {
        "colab": {
          "base_uri": "https://localhost:8080/"
        },
        "id": "ZizlYvk5lo5-",
        "outputId": "02dac0b3-26dd-432d-ef40-4557c7b963af"
      },
      "source": [
        "input_characters = sorted(list(input_characters))\n",
        "target_characters = sorted(list(target_characters))\n",
        "num_encoder_tokens = len(input_characters)\n",
        "num_decoder_tokens = len(target_characters)\n",
        "max_encoder_seq_length = max([len(txt) for txt in inwave])\n",
        "max_decoder_seq_length = max([len(txt) for txt in tarwave])\n",
        "\n",
        "print(\"Number of samples:\", len(inwave))\n",
        "print(\"Number of unique input tokens:\", num_encoder_tokens)\n",
        "print(\"Number of unique output tokens:\", num_decoder_tokens)\n",
        "print(\"Max sequence length for inputs:\", max_encoder_seq_length)\n",
        "print(\"Max sequence length for outputs:\", max_decoder_seq_length)\n",
        "\n",
        "input_token_index = dict([(char, i) for i, char in enumerate(input_characters)])\n",
        "target_token_index = dict([(char, i) for i, char in enumerate(target_characters)])\n",
        "\n",
        "encoder_input_data = np.zeros(\n",
        "    (len(inwave), max_encoder_seq_length, num_encoder_tokens), dtype=\"float32\"\n",
        ")\n",
        "decoder_input_data = np.zeros(\n",
        "    (len(inwave), max_decoder_seq_length, num_decoder_tokens), dtype=\"float32\"\n",
        ")\n",
        "decoder_target_data = np.zeros(\n",
        "    (len(inwave), max_decoder_seq_length, num_decoder_tokens), dtype=\"float32\"\n",
        ")\n",
        "\n",
        "for i, (input_text, target_text) in enumerate(zip(inwave, tarwave)):\n",
        "    for t, char in enumerate(input_text):\n",
        "        encoder_input_data[i, t, input_token_index[char]] = 1.0\n",
        "    encoder_input_data[i, t + 1 :, input_token_index[\" \"]] = 1.0\n",
        "    for t, char in enumerate(target_text):\n",
        "        # decoder_target_data is ahead of decoder_input_data by one timestep\n",
        "        decoder_input_data[i, t, target_token_index[char]] = 1.0\n",
        "        if t > 0:\n",
        "            # decoder_target_data will be ahead by one timestep\n",
        "            # and will not include the start character.\n",
        "            decoder_target_data[i, t - 1, target_token_index[char]] = 1.0\n",
        "    decoder_input_data[i, t + 1 :, target_token_index[\" \"]] = 1.0\n",
        "    decoder_target_data[i, t:, target_token_index[\" \"]] = 1.0"
      ],
      "execution_count": 21,
      "outputs": [
        {
          "output_type": "stream",
          "name": "stdout",
          "text": [
            "Number of samples: 10\n",
            "Number of unique input tokens: 12\n",
            "Number of unique output tokens: 12\n",
            "Max sequence length for inputs: 385\n",
            "Max sequence length for outputs: 385\n"
          ]
        }
      ]
    },
    {
      "cell_type": "code",
      "metadata": {
        "id": "Jb1L9XWvDrDn"
      },
      "source": [
        "input_token_index = dict([(char, i) for i, char in enumerate(input_characters)])"
      ],
      "execution_count": 22,
      "outputs": []
    },
    {
      "cell_type": "code",
      "metadata": {
        "id": "-7oJm4XiEwqL",
        "colab": {
          "base_uri": "https://localhost:8080/"
        },
        "outputId": "a79243f5-68f0-4e96-e469-9435b8fe3ec2"
      },
      "source": [
        "encoder_input_data"
      ],
      "execution_count": 23,
      "outputs": [
        {
          "output_type": "execute_result",
          "data": {
            "text/plain": [
              "array([[[0., 0., 0., ..., 0., 0., 0.],\n",
              "        [0., 0., 0., ..., 0., 0., 0.],\n",
              "        [0., 1., 0., ..., 0., 0., 0.],\n",
              "        ...,\n",
              "        [1., 0., 0., ..., 0., 0., 0.],\n",
              "        [1., 0., 0., ..., 0., 0., 0.],\n",
              "        [1., 0., 0., ..., 0., 0., 0.]],\n",
              "\n",
              "       [[0., 0., 0., ..., 0., 0., 0.],\n",
              "        [0., 0., 0., ..., 0., 1., 0.],\n",
              "        [0., 1., 0., ..., 0., 0., 0.],\n",
              "        ...,\n",
              "        [1., 0., 0., ..., 0., 0., 0.],\n",
              "        [1., 0., 0., ..., 0., 0., 0.],\n",
              "        [1., 0., 0., ..., 0., 0., 0.]],\n",
              "\n",
              "       [[0., 0., 0., ..., 0., 0., 0.],\n",
              "        [0., 0., 0., ..., 0., 0., 0.],\n",
              "        [0., 1., 0., ..., 0., 0., 0.],\n",
              "        ...,\n",
              "        [1., 0., 0., ..., 0., 0., 0.],\n",
              "        [0., 0., 0., ..., 0., 0., 0.],\n",
              "        [0., 0., 0., ..., 1., 0., 0.]],\n",
              "\n",
              "       ...,\n",
              "\n",
              "       [[0., 0., 1., ..., 0., 0., 0.],\n",
              "        [0., 1., 0., ..., 0., 0., 0.],\n",
              "        [1., 0., 0., ..., 0., 0., 0.],\n",
              "        ...,\n",
              "        [1., 0., 0., ..., 0., 0., 0.],\n",
              "        [1., 0., 0., ..., 0., 0., 0.],\n",
              "        [1., 0., 0., ..., 0., 0., 0.]],\n",
              "\n",
              "       [[0., 0., 0., ..., 1., 0., 0.],\n",
              "        [0., 1., 0., ..., 0., 0., 0.],\n",
              "        [1., 0., 0., ..., 0., 0., 0.],\n",
              "        ...,\n",
              "        [1., 0., 0., ..., 0., 0., 0.],\n",
              "        [1., 0., 0., ..., 0., 0., 0.],\n",
              "        [1., 0., 0., ..., 0., 0., 0.]],\n",
              "\n",
              "       [[0., 0., 0., ..., 0., 0., 0.],\n",
              "        [0., 0., 0., ..., 0., 0., 0.],\n",
              "        [0., 1., 0., ..., 0., 0., 0.],\n",
              "        ...,\n",
              "        [1., 0., 0., ..., 0., 0., 0.],\n",
              "        [1., 0., 0., ..., 0., 0., 0.],\n",
              "        [1., 0., 0., ..., 0., 0., 0.]]], dtype=float32)"
            ]
          },
          "metadata": {},
          "execution_count": 23
        }
      ]
    },
    {
      "cell_type": "code",
      "metadata": {
        "id": "QyOeF4XfDxAX",
        "colab": {
          "base_uri": "https://localhost:8080/"
        },
        "outputId": "dcf6ac2b-111e-43f1-bca6-efb3272825eb"
      },
      "source": [
        "inwave"
      ],
      "execution_count": 24,
      "outputs": [
        {
          "output_type": "execute_result",
          "data": {
            "text/plain": [
              "['31, 26, 48, 17, 2, 38, 28, 23, 35, 5, 29, 49, 10, 0, 5, 34, 7, 25, 7, 17, 29, 44, 41, 19, 20, 36, 21, 21, 2, 13, 47, 4, 37, 17, 37, 27, 30, 7, 22, 18, 31, 24, 27, 41, 34, 8, 6, 26, 10, 7, 31, 21, 9, 8, 1, 4, 39, 42, 43, 43, 5, 28, 0, 39, 42, 36, 6, 28, 36, 34, 21, 33, 15, 34, 14, 41, 17, 1, 25, 49, 9, 46, 47, 19, 30, 23, 6, 12, 45, 13, 35, 17, 37, 47, 25, 36, 46, 20, 32, 12',\n",
              " '18, 2, 15, 47, 42, 2, 24, 6, 2, 44, 34, 49, 42, 33, 11, 3, 43, 36, 5, 27, 40, 18, 28, 33, 8, 8, 17, 8, 11, 29, 18, 49, 26, 24, 43, 6, 49, 21, 44, 14, 44, 25, 17, 17, 31, 49, 49, 9, 16, 32, 43, 39, 29, 5, 5, 14, 32, 17, 34, 21, 1, 5, 2, 47, 46, 13, 33, 16, 0, 4, 7, 33, 38, 13, 1, 17, 15, 37, 13, 46, 33, 13, 43, 13, 9, 26, 0, 8, 1, 22, 42, 33, 2, 18, 47, 19, 2, 6, 48, 46',\n",
              " '26, 42, 0, 7, 38, 3, 21, 41, 26, 33, 27, 38, 17, 5, 12, 4, 9, 4, 43, 42, 31, 21, 28, 29, 21, 29, 25, 29, 23, 1, 8, 31, 26, 12, 46, 16, 30, 26, 3, 10, 30, 49, 35, 41, 34, 18, 31, 24, 28, 46, 40, 19, 36, 17, 1, 44, 17, 24, 22, 14, 20, 28, 24, 36, 24, 38, 12, 11, 44, 42, 21, 33, 25, 13, 32, 36, 35, 21, 19, 48, 21, 11, 24, 15, 32, 33, 21, 45, 31, 21, 19, 28, 31, 3, 7, 17, 15, 32, 32, 27',\n",
              " '48, 16, 20, 2, 33, 10, 11, 0, 5, 18, 9, 17, 14, 30, 49, 4, 13, 12, 21, 22, 5, 21, 26, 11, 31, 42, 10, 20, 3, 12, 44, 38, 34, 20, 19, 42, 28, 26, 49, 28, 35, 15, 31, 37, 37, 25, 32, 41, 38, 31, 47, 5, 4, 38, 29, 18, 4, 43, 24, 7, 48, 48, 4, 17, 7, 29, 45, 2, 11, 30, 16, 31, 16, 12, 28, 28, 38, 32, 14, 12, 17, 17, 3, 11, 28, 28, 14, 32, 41, 9, 41, 8, 25, 21, 17, 6, 6, 14, 0, 29',\n",
              " '19, 8, 22, 39, 12, 20, 26, 38, 44, 25, 29, 29, 38, 42, 15, 27, 25, 35, 38, 48, 40, 0, 20, 27, 20, 25, 21, 22, 42, 3, 24, 7, 30, 17, 39, 28, 35, 36, 43, 0, 42, 11, 21, 14, 16, 34, 16, 30, 20, 6, 3, 35, 17, 20, 16, 16, 9, 13, 26, 1, 2, 25, 32, 19, 18, 49, 39, 14, 25, 16, 32, 45, 41, 4, 42, 2, 15, 10, 21, 39, 1, 3, 24, 5, 31, 6, 32, 12, 46, 10, 41, 38, 3, 31, 6, 22, 28, 41, 45, 3',\n",
              " '3, 16, 35, 30, 15, 15, 23, 29, 22, 1, 36, 34, 40, 23, 39, 34, 14, 39, 4, 18, 22, 37, 9, 7, 3, 49, 0, 13, 0, 39, 25, 48, 24, 41, 26, 18, 41, 5, 32, 4, 17, 18, 1, 39, 32, 25, 43, 19, 33, 1, 45, 20, 16, 2, 4, 32, 24, 43, 42, 46, 44, 47, 14, 20, 25, 10, 5, 23, 8, 29, 30, 7, 49, 29, 45, 10, 10, 41, 35, 18, 13, 12, 35, 28, 33, 29, 36, 33, 3, 40, 2, 8, 7, 25, 24, 29, 42, 6, 23, 7',\n",
              " '42, 3, 28, 1, 15, 10, 41, 24, 47, 19, 23, 49, 19, 48, 19, 26, 33, 12, 15, 34, 25, 1, 10, 33, 3, 25, 17, 3, 37, 5, 25, 19, 36, 0, 30, 41, 23, 1, 3, 17, 44, 43, 27, 22, 48, 39, 21, 5, 21, 20, 26, 13, 12, 36, 11, 24, 17, 46, 48, 23, 31, 13, 0, 4, 1, 33, 46, 49, 13, 0, 14, 4, 47, 22, 10, 14, 48, 42, 24, 34, 11, 48, 24, 6, 30, 45, 15, 8, 18, 16, 17, 38, 10, 28, 1, 26, 14, 2, 12, 21',\n",
              " '0, 32, 40, 27, 35, 5, 21, 36, 5, 36, 38, 4, 1, 3, 27, 47, 0, 28, 25, 21, 5, 25, 27, 29, 11, 45, 48, 39, 39, 32, 32, 46, 11, 34, 35, 49, 32, 21, 4, 12, 43, 48, 34, 13, 27, 47, 34, 22, 40, 19, 42, 19, 10, 10, 48, 38, 13, 27, 6, 9, 22, 26, 11, 43, 18, 0, 43, 38, 1, 23, 14, 17, 30, 45, 13, 40, 27, 47, 43, 34, 28, 30, 20, 22, 3, 48, 3, 10, 31, 32, 10, 33, 23, 10, 15, 48, 15, 34, 25, 1',\n",
              " '7, 20, 6, 43, 39, 28, 11, 26, 39, 19, 46, 32, 3, 33, 49, 25, 22, 49, 5, 17, 25, 7, 10, 26, 40, 26, 23, 12, 15, 20, 39, 9, 36, 25, 43, 45, 14, 11, 1, 35, 18, 27, 15, 34, 28, 46, 28, 22, 36, 44, 38, 5, 5, 46, 5, 44, 38, 19, 24, 10, 34, 10, 9, 6, 35, 32, 6, 19, 47, 17, 48, 16, 8, 27, 33, 34, 26, 35, 1, 38, 7, 39, 20, 16, 5, 2, 48, 45, 26, 10, 7, 36, 28, 47, 2, 29, 46, 13, 49, 25',\n",
              " '25, 18, 25, 36, 47, 10, 36, 26, 17, 31, 43, 25, 30, 30, 47, 36, 28, 30, 29, 11, 43, 49, 3, 42, 45, 34, 15, 8, 28, 3, 24, 4, 44, 41, 11, 23, 41, 30, 10, 3, 4, 0, 43, 36, 46, 27, 38, 25, 47, 39, 29, 34, 11, 1, 32, 25, 33, 24, 47, 34, 27, 39, 0, 35, 6, 8, 13, 21, 35, 12, 38, 47, 35, 46, 22, 34, 33, 4, 30, 16, 43, 36, 9, 30, 6, 14, 19, 21, 7, 11, 16, 40, 25, 32, 9, 14, 10, 2, 46, 17']"
            ]
          },
          "metadata": {},
          "execution_count": 24
        }
      ]
    },
    {
      "cell_type": "markdown",
      "metadata": {
        "id": "r6dzuDeXCfUQ"
      },
      "source": [
        "## Build the model\n"
      ]
    },
    {
      "cell_type": "code",
      "metadata": {
        "id": "1URGpVWACfUQ"
      },
      "source": [
        "# Define an input sequence and process it.\n",
        "encoder_inputs = keras.Input(shape=(None, num_encoder_tokens))\n",
        "encoder = keras.layers.LSTM(latent_dim, return_state=True)\n",
        "encoder_outputs, state_h, state_c = encoder(encoder_inputs)\n",
        "\n",
        "# We discard `encoder_outputs` and only keep the states.\n",
        "encoder_states = [state_h, state_c]\n",
        "\n",
        "# Set up the decoder, using `encoder_states` as initial state.\n",
        "decoder_inputs = keras.Input(shape=(None, num_decoder_tokens))\n",
        "\n",
        "# We set up our decoder to return full output sequences,\n",
        "# and to return internal states as well. We don't use the\n",
        "# return states in the training model, but we will use them in inference.\n",
        "decoder_lstm = keras.layers.LSTM(latent_dim, return_sequences=True, return_state=True)\n",
        "decoder_outputs, _, _ = decoder_lstm(decoder_inputs, initial_state=encoder_states)\n",
        "decoder_dense = keras.layers.Dense(num_decoder_tokens, activation=\"softmax\")\n",
        "decoder_outputs = decoder_dense(decoder_outputs)\n",
        "\n",
        "# Define the model that will turn\n",
        "# `encoder_input_data` & `decoder_input_data` into `decoder_target_data`\n",
        "model = keras.Model([encoder_inputs, decoder_inputs], decoder_outputs)\n"
      ],
      "execution_count": 25,
      "outputs": []
    },
    {
      "cell_type": "markdown",
      "metadata": {
        "id": "BUgOGMHbCfUR"
      },
      "source": [
        "## Train the model\n"
      ]
    },
    {
      "cell_type": "code",
      "metadata": {
        "id": "4mm_DIcDCfUR",
        "colab": {
          "base_uri": "https://localhost:8080/",
          "height": 1000
        },
        "outputId": "d853d7f2-2717-4857-e5a6-f44160fb8145"
      },
      "source": [
        "model.compile(\n",
        "    optimizer=\"rmsprop\", loss=\"categorical_crossentropy\", metrics=[\"accuracy\"]\n",
        ")\n",
        "history = model.fit(\n",
        "    [encoder_input_data, decoder_input_data],\n",
        "    decoder_target_data,\n",
        "    batch_size=batch_size,\n",
        "    epochs=100,\n",
        "    validation_split=0.2,\n",
        ")\n",
        "\n",
        "# list all data in history\n",
        "print(history.history.keys())\n",
        "# summarize history for accuracy\n",
        "plt.plot(history.history['accuracy'])\n",
        "plt.plot(history.history['val_accuracy'])\n",
        "plt.title('model accuracy')\n",
        "plt.ylabel('accuracy')\n",
        "plt.xlabel('epoch')\n",
        "plt.legend(['train', 'test'], loc='upper left')\n",
        "plt.show()\n",
        "# summarize history for loss\n",
        "plt.plot(history.history['loss'])\n",
        "plt.plot(history.history['val_loss'])\n",
        "plt.title('model loss')\n",
        "plt.ylabel('loss')\n",
        "plt.xlabel('epoch')\n",
        "plt.legend(['train', 'test'], loc='upper left')\n",
        "plt.show()\n",
        "# Save model\n",
        "model.save(\"s2s\")\n"
      ],
      "execution_count": 26,
      "outputs": [
        {
          "output_type": "stream",
          "name": "stdout",
          "text": [
            "Epoch 1/100\n",
            "1/1 [==============================] - 6s 6s/step - loss: 2.4951 - accuracy: 0.0578 - val_loss: 2.4010 - val_accuracy: 0.2675\n",
            "Epoch 2/100\n",
            "1/1 [==============================] - 2s 2s/step - loss: 2.4006 - accuracy: 0.2685 - val_loss: 2.1999 - val_accuracy: 0.3143\n",
            "Epoch 3/100\n",
            "1/1 [==============================] - 2s 2s/step - loss: 2.1906 - accuracy: 0.3120 - val_loss: 2.3907 - val_accuracy: 0.4117\n",
            "Epoch 4/100\n",
            "1/1 [==============================] - 2s 2s/step - loss: 2.3874 - accuracy: 0.3883 - val_loss: 2.3586 - val_accuracy: 0.4429\n",
            "Epoch 5/100\n",
            "1/1 [==============================] - 2s 2s/step - loss: 2.3546 - accuracy: 0.4292 - val_loss: 2.3168 - val_accuracy: 0.4545\n",
            "Epoch 6/100\n",
            "1/1 [==============================] - 2s 2s/step - loss: 2.3110 - accuracy: 0.4591 - val_loss: 2.2446 - val_accuracy: 0.4805\n",
            "Epoch 7/100\n",
            "1/1 [==============================] - 2s 2s/step - loss: 2.2377 - accuracy: 0.4867 - val_loss: 2.0732 - val_accuracy: 0.4831\n",
            "Epoch 8/100\n",
            "1/1 [==============================] - 2s 2s/step - loss: 2.0601 - accuracy: 0.4766 - val_loss: 2.0862 - val_accuracy: 0.2766\n",
            "Epoch 9/100\n",
            "1/1 [==============================] - 2s 2s/step - loss: 2.0686 - accuracy: 0.2792 - val_loss: 2.2243 - val_accuracy: 0.2571\n",
            "Epoch 10/100\n",
            "1/1 [==============================] - 2s 2s/step - loss: 2.2139 - accuracy: 0.2571 - val_loss: 2.0829 - val_accuracy: 0.2584\n",
            "Epoch 11/100\n",
            "1/1 [==============================] - 2s 2s/step - loss: 2.0706 - accuracy: 0.2588 - val_loss: 2.0644 - val_accuracy: 0.2974\n",
            "Epoch 12/100\n",
            "1/1 [==============================] - 2s 2s/step - loss: 2.0476 - accuracy: 0.3010 - val_loss: 2.0690 - val_accuracy: 0.2779\n",
            "Epoch 13/100\n",
            "1/1 [==============================] - 2s 2s/step - loss: 2.0539 - accuracy: 0.2808 - val_loss: 2.0481 - val_accuracy: 0.3260\n",
            "Epoch 14/100\n",
            "1/1 [==============================] - 2s 2s/step - loss: 2.0305 - accuracy: 0.3143 - val_loss: 2.0404 - val_accuracy: 0.3961\n",
            "Epoch 15/100\n",
            "1/1 [==============================] - 2s 2s/step - loss: 2.0240 - accuracy: 0.3909 - val_loss: 2.0361 - val_accuracy: 0.2818\n",
            "Epoch 16/100\n",
            "1/1 [==============================] - 2s 2s/step - loss: 2.0180 - accuracy: 0.2844 - val_loss: 2.0318 - val_accuracy: 0.5221\n",
            "Epoch 17/100\n",
            "1/1 [==============================] - 2s 2s/step - loss: 2.0143 - accuracy: 0.5253 - val_loss: 2.0292 - val_accuracy: 0.2779\n",
            "Epoch 18/100\n",
            "1/1 [==============================] - 2s 2s/step - loss: 2.0104 - accuracy: 0.2812 - val_loss: 2.0266 - val_accuracy: 0.5052\n",
            "Epoch 19/100\n",
            "1/1 [==============================] - 2s 2s/step - loss: 2.0083 - accuracy: 0.5045 - val_loss: 2.0279 - val_accuracy: 0.2779\n",
            "Epoch 20/100\n",
            "1/1 [==============================] - 2s 2s/step - loss: 2.0079 - accuracy: 0.2802 - val_loss: 2.0386 - val_accuracy: 0.2571\n",
            "Epoch 21/100\n",
            "1/1 [==============================] - 2s 2s/step - loss: 2.0204 - accuracy: 0.2571 - val_loss: 2.0372 - val_accuracy: 0.2779\n",
            "Epoch 22/100\n",
            "1/1 [==============================] - 2s 2s/step - loss: 2.0169 - accuracy: 0.2802 - val_loss: 2.0278 - val_accuracy: 0.2571\n",
            "Epoch 23/100\n",
            "1/1 [==============================] - 2s 2s/step - loss: 2.0092 - accuracy: 0.2571 - val_loss: 2.0099 - val_accuracy: 0.2792\n",
            "Epoch 24/100\n",
            "1/1 [==============================] - 2s 2s/step - loss: 1.9895 - accuracy: 0.2812 - val_loss: 2.0033 - val_accuracy: 0.5052\n",
            "Epoch 25/100\n",
            "1/1 [==============================] - 2s 2s/step - loss: 1.9826 - accuracy: 0.5049 - val_loss: 1.9980 - val_accuracy: 0.2792\n",
            "Epoch 26/100\n",
            "1/1 [==============================] - 2s 2s/step - loss: 1.9766 - accuracy: 0.2818 - val_loss: 1.9936 - val_accuracy: 0.5000\n",
            "Epoch 27/100\n",
            "1/1 [==============================] - 2s 2s/step - loss: 1.9718 - accuracy: 0.4997 - val_loss: 1.9971 - val_accuracy: 0.2779\n",
            "Epoch 28/100\n",
            "1/1 [==============================] - 2s 2s/step - loss: 1.9753 - accuracy: 0.2802 - val_loss: 2.0075 - val_accuracy: 0.2571\n",
            "Epoch 29/100\n",
            "1/1 [==============================] - 2s 2s/step - loss: 1.9845 - accuracy: 0.2571 - val_loss: 2.0261 - val_accuracy: 0.2779\n",
            "Epoch 30/100\n",
            "1/1 [==============================] - 2s 2s/step - loss: 2.0057 - accuracy: 0.2802 - val_loss: 1.9718 - val_accuracy: 0.5299\n",
            "Epoch 31/100\n",
            "1/1 [==============================] - 2s 2s/step - loss: 1.9490 - accuracy: 0.5328 - val_loss: 1.9653 - val_accuracy: 0.5130\n",
            "Epoch 32/100\n",
            "1/1 [==============================] - 2s 2s/step - loss: 1.9435 - accuracy: 0.5140 - val_loss: 1.9694 - val_accuracy: 0.2792\n",
            "Epoch 33/100\n",
            "1/1 [==============================] - 2s 2s/step - loss: 1.9442 - accuracy: 0.2818 - val_loss: 1.9913 - val_accuracy: 0.2571\n",
            "Epoch 34/100\n",
            "1/1 [==============================] - 2s 2s/step - loss: 1.9699 - accuracy: 0.2571 - val_loss: 1.9441 - val_accuracy: 0.2779\n",
            "Epoch 35/100\n",
            "1/1 [==============================] - 2s 2s/step - loss: 1.9200 - accuracy: 0.2802 - val_loss: 1.9202 - val_accuracy: 0.5117\n",
            "Epoch 36/100\n",
            "1/1 [==============================] - 2s 2s/step - loss: 1.8973 - accuracy: 0.5110 - val_loss: 1.9035 - val_accuracy: 0.2805\n",
            "Epoch 37/100\n",
            "1/1 [==============================] - 2s 2s/step - loss: 1.8773 - accuracy: 0.2834 - val_loss: 1.8955 - val_accuracy: 0.4584\n",
            "Epoch 38/100\n",
            "1/1 [==============================] - 2s 2s/step - loss: 1.8735 - accuracy: 0.4503 - val_loss: 1.9136 - val_accuracy: 0.2779\n",
            "Epoch 39/100\n",
            "1/1 [==============================] - 2s 2s/step - loss: 1.8857 - accuracy: 0.2802 - val_loss: 1.8814 - val_accuracy: 0.3429\n",
            "Epoch 40/100\n",
            "1/1 [==============================] - 2s 2s/step - loss: 1.8615 - accuracy: 0.3506 - val_loss: 1.8296 - val_accuracy: 0.2883\n",
            "Epoch 41/100\n",
            "1/1 [==============================] - 2s 2s/step - loss: 1.8072 - accuracy: 0.2909 - val_loss: 1.8170 - val_accuracy: 0.5130\n",
            "Epoch 42/100\n",
            "1/1 [==============================] - 2s 2s/step - loss: 1.7880 - accuracy: 0.5133 - val_loss: 1.7995 - val_accuracy: 0.2909\n",
            "Epoch 43/100\n",
            "1/1 [==============================] - 2s 2s/step - loss: 1.7806 - accuracy: 0.2912 - val_loss: 1.7228 - val_accuracy: 0.5169\n",
            "Epoch 44/100\n",
            "1/1 [==============================] - 2s 2s/step - loss: 1.6965 - accuracy: 0.5172 - val_loss: 1.6247 - val_accuracy: 0.5312\n",
            "Epoch 45/100\n",
            "1/1 [==============================] - 2s 2s/step - loss: 1.6027 - accuracy: 0.5347 - val_loss: 1.5465 - val_accuracy: 0.5610\n",
            "Epoch 46/100\n",
            "1/1 [==============================] - 2s 2s/step - loss: 1.5243 - accuracy: 0.5666 - val_loss: 1.5158 - val_accuracy: 0.5260\n",
            "Epoch 47/100\n",
            "1/1 [==============================] - 2s 2s/step - loss: 1.4869 - accuracy: 0.5312 - val_loss: 1.4878 - val_accuracy: 0.5442\n",
            "Epoch 48/100\n",
            "1/1 [==============================] - 2s 2s/step - loss: 1.4702 - accuracy: 0.5591 - val_loss: 1.5430 - val_accuracy: 0.4870\n",
            "Epoch 49/100\n",
            "1/1 [==============================] - 2s 2s/step - loss: 1.5229 - accuracy: 0.4919 - val_loss: 1.4237 - val_accuracy: 0.5494\n",
            "Epoch 50/100\n",
            "1/1 [==============================] - 2s 2s/step - loss: 1.3952 - accuracy: 0.5604 - val_loss: 1.3912 - val_accuracy: 0.5299\n",
            "Epoch 51/100\n",
            "1/1 [==============================] - 2s 2s/step - loss: 1.3670 - accuracy: 0.5487 - val_loss: 1.3902 - val_accuracy: 0.5390\n",
            "Epoch 52/100\n",
            "1/1 [==============================] - 2s 2s/step - loss: 1.3677 - accuracy: 0.5591 - val_loss: 1.4258 - val_accuracy: 0.5091\n",
            "Epoch 53/100\n",
            "1/1 [==============================] - 2s 2s/step - loss: 1.3968 - accuracy: 0.5244 - val_loss: 1.4093 - val_accuracy: 0.5571\n",
            "Epoch 54/100\n",
            "1/1 [==============================] - 2s 2s/step - loss: 1.3883 - accuracy: 0.5688 - val_loss: 1.4644 - val_accuracy: 0.5221\n",
            "Epoch 55/100\n",
            "1/1 [==============================] - 2s 2s/step - loss: 1.4450 - accuracy: 0.5263 - val_loss: 1.3614 - val_accuracy: 0.5299\n",
            "Epoch 56/100\n",
            "1/1 [==============================] - 2s 2s/step - loss: 1.3338 - accuracy: 0.5422 - val_loss: 1.3306 - val_accuracy: 0.5429\n",
            "Epoch 57/100\n",
            "1/1 [==============================] - 2s 2s/step - loss: 1.3076 - accuracy: 0.5653 - val_loss: 1.3206 - val_accuracy: 0.5299\n",
            "Epoch 58/100\n",
            "1/1 [==============================] - 2s 2s/step - loss: 1.2961 - accuracy: 0.5468 - val_loss: 1.3113 - val_accuracy: 0.5364\n",
            "Epoch 59/100\n",
            "1/1 [==============================] - 2s 2s/step - loss: 1.2880 - accuracy: 0.5584 - val_loss: 1.3076 - val_accuracy: 0.5312\n",
            "Epoch 60/100\n",
            "1/1 [==============================] - 2s 2s/step - loss: 1.2835 - accuracy: 0.5412 - val_loss: 1.3125 - val_accuracy: 0.5468\n",
            "Epoch 61/100\n",
            "1/1 [==============================] - 2s 2s/step - loss: 1.2904 - accuracy: 0.5610 - val_loss: 1.3855 - val_accuracy: 0.5130\n",
            "Epoch 62/100\n",
            "1/1 [==============================] - 2s 2s/step - loss: 1.3548 - accuracy: 0.5208 - val_loss: 1.3257 - val_accuracy: 0.5636\n",
            "Epoch 63/100\n",
            "1/1 [==============================] - 2s 2s/step - loss: 1.3012 - accuracy: 0.5672 - val_loss: 1.3137 - val_accuracy: 0.5195\n",
            "Epoch 64/100\n",
            "1/1 [==============================] - 2s 2s/step - loss: 1.2888 - accuracy: 0.5263 - val_loss: 1.3048 - val_accuracy: 0.5597\n",
            "Epoch 65/100\n",
            "1/1 [==============================] - 2s 2s/step - loss: 1.2801 - accuracy: 0.5627 - val_loss: 1.3417 - val_accuracy: 0.5299\n",
            "Epoch 66/100\n",
            "1/1 [==============================] - 2s 2s/step - loss: 1.3147 - accuracy: 0.5458 - val_loss: 1.2884 - val_accuracy: 0.5506\n",
            "Epoch 67/100\n",
            "1/1 [==============================] - 2s 2s/step - loss: 1.2648 - accuracy: 0.5610 - val_loss: 1.2978 - val_accuracy: 0.5610\n",
            "Epoch 68/100\n",
            "1/1 [==============================] - 2s 2s/step - loss: 1.2713 - accuracy: 0.5708 - val_loss: 1.2901 - val_accuracy: 0.5571\n",
            "Epoch 69/100\n",
            "1/1 [==============================] - 2s 2s/step - loss: 1.2670 - accuracy: 0.5653 - val_loss: 1.3261 - val_accuracy: 0.5312\n",
            "Epoch 70/100\n",
            "1/1 [==============================] - 2s 2s/step - loss: 1.2983 - accuracy: 0.5549 - val_loss: 1.2588 - val_accuracy: 0.5545\n",
            "Epoch 71/100\n",
            "1/1 [==============================] - 2s 2s/step - loss: 1.2355 - accuracy: 0.5727 - val_loss: 1.2534 - val_accuracy: 0.5506\n",
            "Epoch 72/100\n",
            "1/1 [==============================] - 2s 2s/step - loss: 1.2288 - accuracy: 0.5666 - val_loss: 1.2497 - val_accuracy: 0.5571\n",
            "Epoch 73/100\n",
            "1/1 [==============================] - 2s 2s/step - loss: 1.2257 - accuracy: 0.5695 - val_loss: 1.2687 - val_accuracy: 0.5312\n",
            "Epoch 74/100\n",
            "1/1 [==============================] - 2s 2s/step - loss: 1.2419 - accuracy: 0.5487 - val_loss: 1.2519 - val_accuracy: 0.5649\n",
            "Epoch 75/100\n",
            "1/1 [==============================] - 2s 2s/step - loss: 1.2285 - accuracy: 0.5727 - val_loss: 1.2753 - val_accuracy: 0.5260\n",
            "Epoch 76/100\n",
            "1/1 [==============================] - 2s 2s/step - loss: 1.2474 - accuracy: 0.5338 - val_loss: 1.2354 - val_accuracy: 0.5675\n",
            "Epoch 77/100\n",
            "1/1 [==============================] - 2s 2s/step - loss: 1.2112 - accuracy: 0.5805 - val_loss: 1.2385 - val_accuracy: 0.5377\n",
            "Epoch 78/100\n",
            "1/1 [==============================] - 2s 2s/step - loss: 1.2106 - accuracy: 0.5532 - val_loss: 1.2355 - val_accuracy: 0.5844\n",
            "Epoch 79/100\n",
            "1/1 [==============================] - 2s 2s/step - loss: 1.2134 - accuracy: 0.5808 - val_loss: 1.2638 - val_accuracy: 0.5377\n",
            "Epoch 80/100\n",
            "1/1 [==============================] - 2s 2s/step - loss: 1.2317 - accuracy: 0.5584 - val_loss: 1.2264 - val_accuracy: 0.5766\n",
            "Epoch 81/100\n",
            "1/1 [==============================] - 2s 2s/step - loss: 1.2061 - accuracy: 0.5779 - val_loss: 1.2434 - val_accuracy: 0.5519\n",
            "Epoch 82/100\n",
            "1/1 [==============================] - 2s 2s/step - loss: 1.2121 - accuracy: 0.5568 - val_loss: 1.2183 - val_accuracy: 0.5779\n",
            "Epoch 83/100\n",
            "1/1 [==============================] - 2s 2s/step - loss: 1.1978 - accuracy: 0.5789 - val_loss: 1.2351 - val_accuracy: 0.5494\n",
            "Epoch 84/100\n",
            "1/1 [==============================] - 2s 2s/step - loss: 1.2061 - accuracy: 0.5627 - val_loss: 1.2142 - val_accuracy: 0.5753\n",
            "Epoch 85/100\n",
            "1/1 [==============================] - 2s 2s/step - loss: 1.1907 - accuracy: 0.5893 - val_loss: 1.2386 - val_accuracy: 0.5494\n",
            "Epoch 86/100\n",
            "1/1 [==============================] - 2s 2s/step - loss: 1.2132 - accuracy: 0.5597 - val_loss: 1.2138 - val_accuracy: 0.5753\n",
            "Epoch 87/100\n",
            "1/1 [==============================] - 2s 2s/step - loss: 1.1857 - accuracy: 0.5899 - val_loss: 1.2049 - val_accuracy: 0.5610\n",
            "Epoch 88/100\n",
            "1/1 [==============================] - 2s 2s/step - loss: 1.1804 - accuracy: 0.5744 - val_loss: 1.2017 - val_accuracy: 0.5727\n",
            "Epoch 89/100\n",
            "1/1 [==============================] - 2s 2s/step - loss: 1.1741 - accuracy: 0.5769 - val_loss: 1.2130 - val_accuracy: 0.5727\n",
            "Epoch 90/100\n",
            "1/1 [==============================] - 2s 2s/step - loss: 1.1895 - accuracy: 0.5808 - val_loss: 1.2068 - val_accuracy: 0.5662\n",
            "Epoch 91/100\n",
            "1/1 [==============================] - 2s 2s/step - loss: 1.1782 - accuracy: 0.5763 - val_loss: 1.2158 - val_accuracy: 0.5766\n",
            "Epoch 92/100\n",
            "1/1 [==============================] - 2s 2s/step - loss: 1.1908 - accuracy: 0.5805 - val_loss: 1.2000 - val_accuracy: 0.5649\n",
            "Epoch 93/100\n",
            "1/1 [==============================] - 2s 2s/step - loss: 1.1721 - accuracy: 0.5692 - val_loss: 1.1994 - val_accuracy: 0.5662\n",
            "Epoch 94/100\n",
            "1/1 [==============================] - 2s 2s/step - loss: 1.1735 - accuracy: 0.5958 - val_loss: 1.1829 - val_accuracy: 0.5727\n",
            "Epoch 95/100\n",
            "1/1 [==============================] - 2s 2s/step - loss: 1.1570 - accuracy: 0.5838 - val_loss: 1.1940 - val_accuracy: 0.5636\n",
            "Epoch 96/100\n",
            "1/1 [==============================] - 2s 2s/step - loss: 1.1660 - accuracy: 0.5880 - val_loss: 1.1834 - val_accuracy: 0.5779\n",
            "Epoch 97/100\n",
            "1/1 [==============================] - 2s 2s/step - loss: 1.1576 - accuracy: 0.5916 - val_loss: 1.2089 - val_accuracy: 0.5468\n",
            "Epoch 98/100\n",
            "1/1 [==============================] - 2s 2s/step - loss: 1.1802 - accuracy: 0.5578 - val_loss: 1.1783 - val_accuracy: 0.5844\n",
            "Epoch 99/100\n",
            "1/1 [==============================] - 2s 2s/step - loss: 1.1508 - accuracy: 0.5971 - val_loss: 1.1789 - val_accuracy: 0.5571\n",
            "Epoch 100/100\n",
            "1/1 [==============================] - 2s 2s/step - loss: 1.1515 - accuracy: 0.5659 - val_loss: 1.1700 - val_accuracy: 0.5870\n",
            "dict_keys(['loss', 'accuracy', 'val_loss', 'val_accuracy'])\n"
          ]
        },
        {
          "output_type": "display_data",
          "data": {
            "image/png": "[encoded data removed]",
            "text/plain": [
              "<Figure size 432x288 with 1 Axes>"
            ]
          },
          "metadata": {
            "needs_background": "light"
          }
        },
        {
          "output_type": "display_data",
          "data": {
            "image/png": "[encoded data removed]",
            "text/plain": [
              "<Figure size 432x288 with 1 Axes>"
            ]
          },
          "metadata": {
            "needs_background": "light"
          }
        },
        {
          "output_type": "stream",
          "name": "stderr",
          "text": [
            "WARNING:absl:Found untraced functions such as lstm_cell_2_layer_call_fn, lstm_cell_2_layer_call_and_return_conditional_losses, lstm_cell_3_layer_call_fn, lstm_cell_3_layer_call_and_return_conditional_losses, lstm_cell_2_layer_call_fn while saving (showing 5 of 10). These functions will not be directly callable after loading.\n"
          ]
        },
        {
          "output_type": "stream",
          "name": "stdout",
          "text": [
            "INFO:tensorflow:Assets written to: s2s/assets\n"
          ]
        },
        {
          "output_type": "stream",
          "name": "stderr",
          "text": [
            "INFO:tensorflow:Assets written to: s2s/assets\n",
            "WARNING:absl:<keras.layers.recurrent.LSTMCell object at 0x7f276ae98e10> has the same name 'LSTMCell' as a built-in Keras object. Consider renaming <class 'keras.layers.recurrent.LSTMCell'> to avoid naming conflicts when loading with `tf.keras.models.load_model`. If renaming is not possible, pass the object in the `custom_objects` parameter of the load function.\n",
            "WARNING:absl:<keras.layers.recurrent.LSTMCell object at 0x7f276ae5b510> has the same name 'LSTMCell' as a built-in Keras object. Consider renaming <class 'keras.layers.recurrent.LSTMCell'> to avoid naming conflicts when loading with `tf.keras.models.load_model`. If renaming is not possible, pass the object in the `custom_objects` parameter of the load function.\n"
          ]
        }
      ]
    },
    {
      "cell_type": "markdown",
      "metadata": {
        "id": "wZc0QC9pCfUS"
      },
      "source": [
        "## Run inference (sampling)\n",
        "\n",
        "1. encode input and retrieve initial decoder state\n",
        "2. run one step of decoder with this initial state\n",
        "and a \"start of sequence\" token as target.\n",
        "Output will be the next target token.\n",
        "3. Repeat with the current target token and current states\n"
      ]
    },
    {
      "cell_type": "code",
      "metadata": {
        "colab": {
          "base_uri": "https://localhost:8080/",
          "height": 35
        },
        "id": "1TriXq7nnD_q",
        "outputId": "ed3836f5-818e-4cb1-8eec-f5f86d4afbe0"
      },
      "source": [
        "plt.savefig(\"plots.pdf\")"
      ],
      "execution_count": 27,
      "outputs": [
        {
          "output_type": "display_data",
          "data": {
            "text/plain": [
              "<Figure size 432x288 with 0 Axes>"
            ]
          },
          "metadata": {}
        }
      ]
    },
    {
      "cell_type": "code",
      "metadata": {
        "id": "yeoEYHvnCfUS"
      },
      "source": [
        "# Define sampling models\n",
        "# Restore the model and construct the encoder and decoder.\n",
        "model = keras.models.load_model(\"s2s\")\n",
        "\n",
        "encoder_inputs = model.input[0]  # input_1\n",
        "encoder_outputs, state_h_enc, state_c_enc = model.layers[2].output  # lstm_1\n",
        "encoder_states = [state_h_enc, state_c_enc]\n",
        "encoder_model = keras.Model(encoder_inputs, encoder_states)\n",
        "\n",
        "decoder_inputs = model.input[1]  # input_2\n",
        "decoder_state_input_h = keras.Input(shape=(latent_dim,))\n",
        "decoder_state_input_c = keras.Input(shape=(latent_dim,))\n",
        "decoder_states_inputs = [decoder_state_input_h, decoder_state_input_c]\n",
        "decoder_lstm = model.layers[3]\n",
        "decoder_outputs, state_h_dec, state_c_dec = decoder_lstm(\n",
        "    decoder_inputs, initial_state=decoder_states_inputs\n",
        ")\n",
        "decoder_states = [state_h_dec, state_c_dec]\n",
        "decoder_dense = model.layers[4]\n",
        "decoder_outputs = decoder_dense(decoder_outputs)\n",
        "decoder_model = keras.Model(\n",
        "    [decoder_inputs] + decoder_states_inputs, [decoder_outputs] + decoder_states\n",
        ")\n",
        "\n",
        "# Reverse-lookup token index to decode sequences back to\n",
        "# something readable.\n",
        "reverse_input_char_index = dict((i, char) for char, i in input_token_index.items())\n",
        "reverse_target_char_index = dict((i, char) for char, i in target_token_index.items())\n",
        "\n",
        "\n",
        "def decode_sequence(input_seq):\n",
        "    # Encode the input as state vectors.\n",
        "    states_value = encoder_model.predict(input_seq)\n",
        "\n",
        "    # Generate empty target sequence of length 1.\n",
        "    target_seq = np.zeros((1, 1, num_decoder_tokens))\n",
        "    # # Populate the first character of target sequence with the start character.\n",
        "    target_seq[0, 0, target_token_index['0']] = 1.0\n",
        "\n",
        "    # Sampling loop for a batch of sequences\n",
        "    # (to simplify, here we assume a batch of size 1).\n",
        "    stop_condition = False\n",
        "    decoded_sentence = \"0\"\n",
        "    while not stop_condition:\n",
        "        output_tokens, h, c = decoder_model.predict([target_seq] + states_value)\n",
        "\n",
        "        # Sample a token\n",
        "        sampled_token_index = np.argmax(output_tokens[0, -1, :])\n",
        "        sampled_char = reverse_target_char_index[sampled_token_index]\n",
        "        decoded_sentence += sampled_char\n",
        "\n",
        "        # Exit condition: either hit max length\n",
        "        # or find stop character.\n",
        "        if sampled_char == \"\\n\" or len(decoded_sentence) > max_decoder_seq_length:\n",
        "            stop_condition = True\n",
        "\n",
        "        # Update the target sequence (of length 1).\n",
        "        target_seq = np.zeros((1, 1, num_decoder_tokens))\n",
        "        target_seq[0, 0, sampled_token_index] = 1.0\n",
        "\n",
        "        # Update states\n",
        "        states_value = [h, c]\n",
        "    return decoded_sentence\n",
        "\n"
      ],
      "execution_count": 41,
      "outputs": []
    },
    {
      "cell_type": "markdown",
      "metadata": {
        "id": "PbPwmkrYCfUT"
      },
      "source": [
        "You can now generate decoded sentences as such:\n"
      ]
    },
    {
      "cell_type": "code",
      "metadata": {
        "colab": {
          "base_uri": "https://localhost:8080/",
          "height": 70
        },
        "id": "FU3pUrZXIGFc",
        "outputId": "9e8e5aaa-fadd-4c5e-a484-5777df3204cd"
      },
      "source": [
        "inwave[1]"
      ],
      "execution_count": 36,
      "outputs": [
        {
          "output_type": "execute_result",
          "data": {
            "application/vnd.google.colaboratory.intrinsic+json": {
              "type": "string"
            },
            "text/plain": [
              "'18, 2, 15, 47, 42, 2, 24, 6, 2, 44, 34, 49, 42, 33, 11, 3, 43, 36, 5, 27, 40, 18, 28, 33, 8, 8, 17, 8, 11, 29, 18, 49, 26, 24, 43, 6, 49, 21, 44, 14, 44, 25, 17, 17, 31, 49, 49, 9, 16, 32, 43, 39, 29, 5, 5, 14, 32, 17, 34, 21, 1, 5, 2, 47, 46, 13, 33, 16, 0, 4, 7, 33, 38, 13, 1, 17, 15, 37, 13, 46, 33, 13, 43, 13, 9, 26, 0, 8, 1, 22, 42, 33, 2, 18, 47, 19, 2, 6, 48, 46'"
            ]
          },
          "metadata": {},
          "execution_count": 36
        }
      ]
    },
    {
      "cell_type": "code",
      "metadata": {
        "colab": {
          "base_uri": "https://localhost:8080/",
          "height": 70
        },
        "id": "eXFi9TBRILa6",
        "outputId": "c6dcf506-e55f-4df6-ca5b-2f212495ebcc"
      },
      "source": [
        "tarwave[1]"
      ],
      "execution_count": 37,
      "outputs": [
        {
          "output_type": "execute_result",
          "data": {
            "application/vnd.google.colaboratory.intrinsic+json": {
              "type": "string"
            },
            "text/plain": [
              "'40, 46, 26, 1, 15, 27, 29, 46, 47, 46, 38, 3, 44, 13, 49, 22, 9, 24, 44, 3, 25, 10, 37, 19, 29, 22, 44, 26, 33, 44, 2, 29, 36, 32, 28, 23, 23, 15, 0, 48, 21, 25, 27, 6, 44, 46, 23, 4, 16, 26, 12, 18, 47, 1, 12, 37, 19, 47, 0, 49, 49, 11, 48, 24, 47, 20, 24, 21, 4, 4, 18, 2, 27, 14, 23, 27, 39, 1, 7, 8, 36, 5, 18, 3, 41, 20, 28, 28, 11, 32, 26, 28, 1, 17, 8, 35, 42, 17, 17, 13'"
            ]
          },
          "metadata": {},
          "execution_count": 37
        }
      ]
    },
    {
      "cell_type": "code",
      "metadata": {
        "id": "IcVG0RJ8CfUT",
        "colab": {
          "base_uri": "https://localhost:8080/"
        },
        "outputId": "79be8136-9cc2-4713-e208-617a93ffb743"
      },
      "source": [
        "for seq_index in range(2):\n",
        "    # Take one sequence (part of the training set)\n",
        "    # for trying out decoding.\n",
        "    input_seq = encoder_input_data[seq_index : seq_index + 1]\n",
        "    decoded_signal = decode_sequence(input_seq)\n",
        "    print(\"-\")\n",
        "    print(\"Input sentence:\", inwave[seq_index])\n",
        "    print(\"Decoded sentence:\", decoded_signal)\n"
      ],
      "execution_count": 43,
      "outputs": [
        {
          "output_type": "stream",
          "name": "stdout",
          "text": [
            "-\n",
            "Input sentence: 31, 26, 48, 17, 2, 38, 28, 23, 35, 5, 29, 49, 10, 0, 5, 34, 7, 25, 7, 17, 29, 44, 41, 19, 20, 36, 21, 21, 2, 13, 47, 4, 37, 17, 37, 27, 30, 7, 22, 18, 31, 24, 27, 41, 34, 8, 6, 26, 10, 7, 31, 21, 9, 8, 1, 4, 39, 42, 43, 43, 5, 28, 0, 39, 42, 36, 6, 28, 36, 34, 21, 33, 15, 34, 14, 41, 17, 1, 25, 49, 9, 46, 47, 19, 30, 23, 6, 12, 45, 13, 35, 17, 37, 47, 25, 36, 46, 20, 32, 12\n",
            "Decoded sentence: 0, 44, 29, 2, 4, 4, 4, 4, 4, 4, 4, 4, 4, 4, 4, 4, 4, 4, 4, 4, 4, 4, 4, 4, 4, 4, 4, 4, 4, 4, 3, 3, 3, 3, 3, 3, 3, 3, 3, 3, 3, 3, 3, 3, 3, 3, 3, 3, 3, 3, 3, 3, 3, 3, 3, 3, 3, 3, 3, 3, 3, 3, 3, 3, 3, 3, 3, 3, 3, 3, 3, 3, 3, 3, 3, 3, 3, 3, 3, 3, 3, 3, 3, 3, 3, 3, 3, 3, 3, 3, 3, 3, 3, 3, 3, 3, 3, 3, 3, 3, 3, 3, 3, 3, 3, 3, 3, 3, 3, 3, 3, 3, 3, 3, 3, 3, 3, 3, 3, 3, 3, 3, 3, 3, 3, 3, 3, 3, \n",
            "-\n",
            "Input sentence: 18, 2, 15, 47, 42, 2, 24, 6, 2, 44, 34, 49, 42, 33, 11, 3, 43, 36, 5, 27, 40, 18, 28, 33, 8, 8, 17, 8, 11, 29, 18, 49, 26, 24, 43, 6, 49, 21, 44, 14, 44, 25, 17, 17, 31, 49, 49, 9, 16, 32, 43, 39, 29, 5, 5, 14, 32, 17, 34, 21, 1, 5, 2, 47, 46, 13, 33, 16, 0, 4, 7, 33, 38, 13, 1, 17, 15, 37, 13, 46, 33, 13, 43, 13, 9, 26, 0, 8, 1, 22, 42, 33, 2, 18, 47, 19, 2, 6, 48, 46\n",
            "Decoded sentence: 0, 44, 29, 2, 4, 4, 4, 4, 4, 4, 4, 4, 4, 4, 4, 4, 4, 4, 4, 4, 4, 4, 4, 4, 4, 4, 4, 4, 4, 4, 3, 3, 3, 3, 3, 3, 3, 3, 3, 3, 3, 3, 3, 3, 3, 3, 3, 3, 3, 3, 3, 3, 3, 3, 3, 3, 3, 3, 3, 3, 3, 3, 3, 3, 3, 3, 3, 3, 3, 3, 3, 3, 3, 3, 3, 3, 3, 3, 3, 3, 3, 3, 3, 3, 3, 3, 3, 3, 3, 3, 3, 3, 3, 3, 3, 3, 3, 3, 3, 3, 3, 3, 3, 3, 3, 3, 3, 3, 3, 3, 3, 3, 3, 3, 3, 3, 3, 3, 3, 3, 3, 3, 3, 3, 3, 3, 3, 3, \n"
          ]
        }
      ]
    },
    {
      "cell_type": "markdown",
      "metadata": {
        "id": "hWEfYXY5N5Kr"
      },
      "source": [
        "# Post processing after inference to convert back to array "
      ]
    },
    {
      "cell_type": "code",
      "metadata": {
        "id": "8mW2rmNmMo0V",
        "outputId": "66d779b6-3240-4ec2-abdd-ffa5701a271a",
        "colab": {
          "base_uri": "https://localhost:8080/"
        }
      },
      "source": [
        "decoded_signal.strip( )\n",
        "decoded_signal = decoded_signal.replace('[','')\n",
        "decoded_signal = decoded_signal.replace(']','')\n",
        "output_signal = np.fromstring(decoded_signal, dtype=int, sep=',')"
      ],
      "execution_count": 42,
      "outputs": [
        {
          "output_type": "stream",
          "name": "stderr",
          "text": [
            "/usr/local/lib/python3.7/dist-packages/ipykernel_launcher.py:4: DeprecationWarning: string or file could not be read to its end due to unmatched data; this will raise a ValueError in the future.\n",
            "  after removing the cwd from sys.path.\n"
          ]
        }
      ]
    },
    {
      "cell_type": "code",
      "metadata": {
        "colab": {
          "base_uri": "https://localhost:8080/"
        },
        "id": "zUDWBoYJNof3",
        "outputId": "59288577-29be-4487-d55b-4650203eb32c"
      },
      "source": [
        "output_signal"
      ],
      "execution_count": 34,
      "outputs": [
        {
          "output_type": "execute_result",
          "data": {
            "text/plain": [
              "array([], dtype=int64)"
            ]
          },
          "metadata": {},
          "execution_count": 34
        }
      ]
    },
    {
      "cell_type": "code",
      "metadata": {
        "id": "ySE8eP8ZMpWC"
      },
      "source": [
        ""
      ],
      "execution_count": null,
      "outputs": []
    },
    {
      "cell_type": "code",
      "metadata": {
        "id": "wUa8YDgeNyGJ"
      },
      "source": [
        ""
      ],
      "execution_count": null,
      "outputs": []
    }
  ]
}